{
  "nbformat": 4,
  "nbformat_minor": 0,
  "metadata": {
    "colab": {
      "provenance": [],
      "authorship_tag": "ABX9TyOXKw2s/BEtYPGnFGhhOfEw",
      "include_colab_link": true
    },
    "kernelspec": {
      "name": "python3",
      "display_name": "Python 3"
    },
    "language_info": {
      "name": "python"
    }
  },
  "cells": [
    {
      "cell_type": "markdown",
      "metadata": {
        "id": "view-in-github",
        "colab_type": "text"
      },
      "source": [
        "<a href=\"https://colab.research.google.com/github/noharaltc7/noharaltc7/blob/main/Untitled2.ipynb\" target=\"_parent\"><img src=\"https://colab.research.google.com/assets/colab-badge.svg\" alt=\"Open In Colab\"/></a>"
      ]
    },
    {
      "cell_type": "code",
      "execution_count": null,
      "metadata": {
        "id": "TLazGJiHs3C2"
      },
      "outputs": [],
      "source": [
        "print(\"Calculadora de média ponderada do IFRN\")\n",
        "\n",
        "# Perguntando, para quantos alunos, desejo calcular média\n",
        "num_alunos = int(input(\"Digite o número de alunos: \"))\n",
        "\n",
        "for aluno in range(1, num_alunos + 1):\n",
        "    # Imprima o número do aluno da vez\n",
        "    print(f\"\\nAluno {aluno}:\")\n",
        "\n",
        "    # Float, tipagem explícita, para garantir número fracionário\n",
        "    while True:\n",
        "        n1 = float(input(\"Digite a nota 1 (com peso 2): \"))\n",
        "        if 0 <= n1 <= 10:\n",
        "            break\n",
        "        else:\n",
        "            print(\"Nota inválida. A nota deve estar entre 0 e 10.\")\n",
        "\n",
        "    while True:\n",
        "        n2 = float(input(\"Digite a nota 2 (com peso 3): \"))\n",
        "        if 0 <= n2 <= 10:\n",
        "            break\n",
        "        else:\n",
        "            print(\"Nota inválida. A nota deve estar entre 0 e 10.\")\n",
        "\n",
        "    # Cálculo de média ponderada\n",
        "    media = (n1 * 2 + n2 * 3) / 5\n",
        "\n",
        "    # Impressão da média\n",
        "    print(f\"A média ponderada das notas é: {media:.2f}\")\n",
        "\n",
        "    # Apresentar se o aluno foi aprovado ou não\n",
        "    if media >= 6:\n",
        "        print(\"Aprovado\")\n",
        "    else:\n",
        "        if n1 >= 4 and n2 >= 4:\n",
        "            print(\"Prova final\")\n",
        "        else:\n",
        "            print(\"Reprovado\")\n"
      ]
    }
  ]
}