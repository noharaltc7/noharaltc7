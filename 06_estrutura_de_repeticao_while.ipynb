{
  "nbformat": 4,
  "nbformat_minor": 0,
  "metadata": {
    "colab": {
      "provenance": [],
      "authorship_tag": "ABX9TyNPzs106zBjI35rLNCqRLZu",
      "include_colab_link": true
    },
    "kernelspec": {
      "name": "python3",
      "display_name": "Python 3"
    },
    "language_info": {
      "name": "python"
    }
  },
  "cells": [
    {
      "cell_type": "markdown",
      "metadata": {
        "id": "view-in-github",
        "colab_type": "text"
      },
      "source": [
        "<a href=\"https://colab.research.google.com/github/noharaltc7/noharaltc7/blob/main/06_estrutura_de_repeticao_while.ipynb\" target=\"_parent\"><img src=\"https://colab.research.google.com/assets/colab-badge.svg\" alt=\"Open In Colab\"/></a>"
      ]
    },
    {
      "cell_type": "code",
      "execution_count": 3,
      "metadata": {
        "colab": {
          "base_uri": "https://localhost:8080/"
        },
        "id": "iqq4R7i2evwT",
        "outputId": "f205357e-d0d2-4a03-c756-27a5eeacffb2"
      },
      "outputs": [
        {
          "output_type": "stream",
          "name": "stdout",
          "text": [
            "ATCGGGCCATTTAGC TCGGGCCATTTAGC CGGGCCATTTAGC GGGCCATTTAGC GGCCATTTAGC GCCATTTAGC CCATTTAGC CATTTAGC ATTTAGC TTTAGC TTAGC TAGC AGC GC C "
          ]
        }
      ],
      "source": [
        "x = 'ATCGGGCCATTTAGC'\n",
        "while x:\n",
        "  print(x, end=' ')\n",
        "  x = x[1:]"
      ]
    }
  ]
}