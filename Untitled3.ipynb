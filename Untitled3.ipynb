{
  "nbformat": 4,
  "nbformat_minor": 0,
  "metadata": {
    "colab": {
      "provenance": [],
      "authorship_tag": "ABX9TyPjo2xWCprSnNK+AbeuLECH",
      "include_colab_link": true
    },
    "kernelspec": {
      "name": "python3",
      "display_name": "Python 3"
    },
    "language_info": {
      "name": "python"
    }
  },
  "cells": [
    {
      "cell_type": "markdown",
      "metadata": {
        "id": "view-in-github",
        "colab_type": "text"
      },
      "source": [
        "<a href=\"https://colab.research.google.com/github/noharaltc7/noharaltc7/blob/main/Untitled3.ipynb\" target=\"_parent\"><img src=\"https://colab.research.google.com/assets/colab-badge.svg\" alt=\"Open In Colab\"/></a>"
      ]
    },
    {
      "cell_type": "markdown",
      "source": [
        "Calculadora de IMC (Índice de Massa Corporal):"
      ],
      "metadata": {
        "id": "Rm1V0V9Z3Inv"
      }
    },
    {
      "cell_type": "code",
      "execution_count": 1,
      "metadata": {
        "colab": {
          "base_uri": "https://localhost:8080/"
        },
        "id": "HSRoY3al3BBx",
        "outputId": "80918bdd-3076-47b8-cab2-6665a8e16acf"
      },
      "outputs": [
        {
          "output_type": "stream",
          "name": "stdout",
          "text": [
            "Digite seu peso: 45\n",
            "Digite sua altura: 1.56\n",
            "Seu imc é: 18.49112426035503\n",
            "classificação: Abaixo do Peso\n"
          ]
        }
      ],
      "source": [
        "#calculcadora de IMC\n",
        "\n",
        "peso = float(input(\"Digite seu peso: \"))\n",
        "altura = float(input(\"Digite sua altura: \"))\n",
        "\n",
        "imc = peso/(altura * altura)\n",
        "\n",
        "if imc < 18.5: classificacao = \"Abaixo do Peso\"\n",
        "elif imc < 25: classificacao = \"Peso Normal\"\n",
        "elif imc < 30: classificacao = \"Sobrepeso\"\n",
        "else: classificacao = \"Obesidade\"\n",
        "\n",
        "print(\"Seu imc é:\", imc)\n",
        "print(\"classificação:\", classificacao)"
      ]
    },
    {
      "cell_type": "markdown",
      "source": [
        "Verificador de Número Par ou Ímpar:"
      ],
      "metadata": {
        "id": "weyQ9VxA3WhU"
      }
    },
    {
      "cell_type": "code",
      "source": [
        "#Verificador de número par ou ímpar\n",
        "\n",
        "num = int(input(\"Digite um número: \"))\n",
        "\n",
        "if num % 2 == 0:\n",
        "  print(\"O número é par\")\n",
        "else:\n",
        "  print(\"O número é ímpar\")"
      ],
      "metadata": {
        "colab": {
          "base_uri": "https://localhost:8080/"
        },
        "id": "VCNVpIC93ZSU",
        "outputId": "35ed8201-f338-4568-fb64-472ce4df5160"
      },
      "execution_count": 2,
      "outputs": [
        {
          "output_type": "stream",
          "name": "stdout",
          "text": [
            "Digite um número: 7\n",
            "O número é ímpar\n"
          ]
        }
      ]
    },
    {
      "cell_type": "markdown",
      "source": [
        "Conversor de Temperatura:"
      ],
      "metadata": {
        "id": "Bt5nvDAr3faE"
      }
    },
    {
      "cell_type": "code",
      "source": [
        "#Conversor de Temperatura\n",
        "\n",
        "c = float(input(\"Digite o valor em celsius: \"))\n",
        "\n",
        "f = c * 9/5 + 32\n",
        "\n",
        "print(\"O valor em Fahrenheit: \", f)"
      ],
      "metadata": {
        "colab": {
          "base_uri": "https://localhost:8080/"
        },
        "id": "F20dLBPX3hiU",
        "outputId": "b57bf549-c8d2-46ff-bc2c-c30a3fd8f60e"
      },
      "execution_count": 3,
      "outputs": [
        {
          "output_type": "stream",
          "name": "stdout",
          "text": [
            "Digite o valor em celsius: 25\n",
            "O valor em Fahrenheit:  77.0\n"
          ]
        }
      ]
    },
    {
      "cell_type": "markdown",
      "source": [
        "Tabuada de Multiplicação:"
      ],
      "metadata": {
        "id": "k9H5Q28m3mKk"
      }
    },
    {
      "cell_type": "code",
      "source": [
        "#Tabuada de Multiplicação\n",
        "\n",
        "num = int(input(\"Digite um número: \"))\n",
        "\n",
        "for r in range(1, 11):\n",
        "  resultado = num * r\n",
        "  print(f\"{num} x {r} = {resultado}\")"
      ],
      "metadata": {
        "colab": {
          "base_uri": "https://localhost:8080/"
        },
        "id": "v3JPj8qT3oOs",
        "outputId": "55c92472-5d54-44f2-a255-588fd56cfaaa"
      },
      "execution_count": 4,
      "outputs": [
        {
          "output_type": "stream",
          "name": "stdout",
          "text": [
            "Digite um número: 5\n",
            "5 x 1 = 5\n",
            "5 x 2 = 10\n",
            "5 x 3 = 15\n",
            "5 x 4 = 20\n",
            "5 x 5 = 25\n",
            "5 x 6 = 30\n",
            "5 x 7 = 35\n",
            "5 x 8 = 40\n",
            "5 x 9 = 45\n",
            "5 x 10 = 50\n"
          ]
        }
      ]
    },
    {
      "cell_type": "markdown",
      "source": [
        "Cálculo de Média Ponderada:"
      ],
      "metadata": {
        "id": "whMzWdgz3tXM"
      }
    },
    {
      "cell_type": "code",
      "source": [
        "#Cálculo de Média Ponderada\n",
        "\n",
        "n1 = float(input(\"Digite nota 1:\"))\n",
        "peso1 = float(input(\"Digite peso da nota 1:\"))\n",
        "\n",
        "n2 = float(input(\"Digite nota 2:\"))\n",
        "peso2 = float(input(\"Digite peso da nota 2:\"))\n",
        "\n",
        "n3 = float(input(\"Digite nota 3:\"))\n",
        "peso3 = float(input(\"Digite peso da nota 3:\"))\n",
        "\n",
        "media_ponderada = (n1 * peso1 + n2 * peso2 + n3 * peso3) / (peso1 + peso2 + peso3)\n",
        "\n",
        "print(\"A média ponderada é:\", media_ponderada)"
      ],
      "metadata": {
        "colab": {
          "base_uri": "https://localhost:8080/"
        },
        "id": "hv84Q7VA3vVs",
        "outputId": "22a02822-d3a0-4ee1-daa0-646413a78397"
      },
      "execution_count": 5,
      "outputs": [
        {
          "output_type": "stream",
          "name": "stdout",
          "text": [
            "Digite nota 1:7\n",
            "Digite peso da nota 1:2\n",
            "Digite nota 2:80\n",
            "Digite peso da nota 2:3\n",
            "Digite nota 3:95\n",
            "Digite peso da nota 3:5\n",
            "A média ponderada é: 72.9\n"
          ]
        }
      ]
    },
    {
      "cell_type": "markdown",
      "source": [
        "Verificador de Ano Bissexto:"
      ],
      "metadata": {
        "id": "iOZ3DuYX33w8"
      }
    },
    {
      "cell_type": "code",
      "source": [
        "#Verificador de ano bissexto\n",
        "\n",
        "ano = int(input(\"Digite um ano: \"))\n",
        "\n",
        "if ano % 4 == 0:\n",
        "  if ano % 100 == 0:\n",
        "    if ano % 400 == 0:\n",
        "      print(ano, \"É um ano bissexto\")\n",
        "    else:\n",
        "      print(ano, \"Não é um ano bissexto\")\n",
        "  else:\n",
        "      print(ano, \"É um ano bissexto\")\n",
        "else:\n",
        "      print(ano, \"Não é um ano bissexto\")"
      ],
      "metadata": {
        "colab": {
          "base_uri": "https://localhost:8080/"
        },
        "id": "YgeI-QUa35-8",
        "outputId": "915adb02-6612-4208-ca48-c87aed86e9f8"
      },
      "execution_count": 6,
      "outputs": [
        {
          "output_type": "stream",
          "name": "stdout",
          "text": [
            "Digite um ano: 2005\n",
            "2005 Não é um ano bissexto\n"
          ]
        }
      ]
    },
    {
      "cell_type": "markdown",
      "source": [
        "Contador de Vogais em uma String:"
      ],
      "metadata": {
        "id": "2g_aduhH39hL"
      }
    },
    {
      "cell_type": "code",
      "source": [
        "#Contador de Vogais em uma String\n",
        "\n",
        "string = input(\"Digite uma String: \")\n",
        "vogais = [\"a\", \"e\", \"i\", \"o\", \"u\"]\n",
        "contagem = 0\n",
        "\n",
        "for caractere in string:\n",
        "  if caractere.lower() in vogais:\n",
        "    contagem +=1\n",
        "\n",
        "print(\"O número e vogais na String é: \", contagem)"
      ],
      "metadata": {
        "colab": {
          "base_uri": "https://localhost:8080/"
        },
        "id": "dVtuVg2-4ABz",
        "outputId": "84da6848-6b0f-4f4b-b5d0-234dcc6c8a97"
      },
      "execution_count": 7,
      "outputs": [
        {
          "output_type": "stream",
          "name": "stdout",
          "text": [
            "Digite uma String: beleza\n",
            "O número e vogais na String é:  3\n"
          ]
        }
      ]
    },
    {
      "cell_type": "markdown",
      "source": [
        "Calculadora de Fatorial:"
      ],
      "metadata": {
        "id": "3Ys4Fpm34G1b"
      }
    },
    {
      "cell_type": "code",
      "source": [
        "#Calculadora de Fatorial\n",
        "\n",
        "num = int (input(\"Digite um número: \"))\n",
        "\n",
        "if num < 0:\n",
        "  print(\"O número deve ser positivo\")\n",
        "else:\n",
        "  resultado = 1\n",
        "  for r in range(1, num + 1):\n",
        "    resultado *= r\n",
        "  print(\"O fatorial de\", num, \"É\", resultado)"
      ],
      "metadata": {
        "colab": {
          "base_uri": "https://localhost:8080/"
        },
        "id": "LMRh1AyM4KWj",
        "outputId": "3fcec439-ef5b-4a30-9bea-c15589940d01"
      },
      "execution_count": 8,
      "outputs": [
        {
          "output_type": "stream",
          "name": "stdout",
          "text": [
            "Digite um número: 8\n",
            "O fatorial de 8 É 40320\n"
          ]
        }
      ]
    },
    {
      "cell_type": "markdown",
      "source": [
        "Soma dos Números Pares em um Intervalo:"
      ],
      "metadata": {
        "id": "Pbg1xYHr4OXT"
      }
    },
    {
      "cell_type": "code",
      "source": [
        "#Soma dos Números Pares em um Intervalo\n",
        "\n",
        "inicio = int(input(\"Digite o número do inicial do intervalo: \"))\n",
        "fim = int(input(\"Digite o número final do intervalo: \"))\n",
        "print(\"LEMBRE-SE VOCÊ DEFINIU O INTERVALO\")\n",
        "\n",
        "soma_dos_pares = 0\n",
        "for num in range(inicio, fim + 1 ):\n",
        "  if num % 2 == 0:\n",
        "    soma_dos_pares += num\n",
        "print(\"A soma de todos os números pares dentro do intervalo é:\", soma_dos_pares)"
      ],
      "metadata": {
        "colab": {
          "base_uri": "https://localhost:8080/"
        },
        "id": "SYkKrA184Q-7",
        "outputId": "15328381-9e17-4303-dfec-a3bc4cf4a57f"
      },
      "execution_count": 9,
      "outputs": [
        {
          "output_type": "stream",
          "name": "stdout",
          "text": [
            "Digite o número do inicial do intervalo: 5\n",
            "Digite o número final do intervalo: 10\n",
            "LEMBRE-SE VOCÊ DEFINIU O INTERVALO\n",
            "A soma de todos os números pares dentro do intervalo é: 24\n"
          ]
        }
      ]
    },
    {
      "cell_type": "markdown",
      "source": [
        "Verificador de Número Primo:"
      ],
      "metadata": {
        "id": "u4__7_ow4WYj"
      }
    },
    {
      "cell_type": "code",
      "source": [
        "#Verificador de Número Primo\n",
        "\n",
        "import math\n",
        "\n",
        "num = int(input(\"Digite um número positivo: \"))\n",
        "\n",
        "if num <= 1:\n",
        "  print(\"O número não é primo: \")\n",
        "else:\n",
        "  e_primo = True\n",
        "  for r in range(2, int(math.sqrt(num))+ 1):\n",
        "    if num % r == 0:\n",
        "      e_primo = False\n",
        "      break\n",
        "  if e_primo:\n",
        "    print(\"O número é primo\")\n",
        "  else:\n",
        "    print(\"O número não é primo\")"
      ],
      "metadata": {
        "colab": {
          "base_uri": "https://localhost:8080/"
        },
        "id": "oHlghAdn4YgM",
        "outputId": "047d80d5-8faa-4fba-fb05-8cea283ad128"
      },
      "execution_count": 10,
      "outputs": [
        {
          "output_type": "stream",
          "name": "stdout",
          "text": [
            "Digite um número positivo: 8\n",
            "O número não é primo\n"
          ]
        }
      ]
    }
  ]
}