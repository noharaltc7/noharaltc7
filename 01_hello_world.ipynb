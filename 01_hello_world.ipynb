{
  "nbformat": 4,
  "nbformat_minor": 0,
  "metadata": {
    "colab": {
      "provenance": [],
      "authorship_tag": "ABX9TyMqNy17EhoHaG/PbKShEzfN",
      "include_colab_link": true
    },
    "kernelspec": {
      "name": "python3",
      "display_name": "Python 3"
    },
    "language_info": {
      "name": "python"
    }
  },
  "cells": [
    {
      "cell_type": "markdown",
      "metadata": {
        "id": "view-in-github",
        "colab_type": "text"
      },
      "source": [
        "<a href=\"https://colab.research.google.com/github/noharaltc7/noharaltc7/blob/main/01_hello_world.ipynb\" target=\"_parent\"><img src=\"https://colab.research.google.com/assets/colab-badge.svg\" alt=\"Open In Colab\"/></a>"
      ]
    },
    {
      "cell_type": "code",
      "execution_count": null,
      "metadata": {
        "colab": {
          "base_uri": "https://localhost:8080/"
        },
        "id": "DwfzE7SzcMct",
        "outputId": "a688de7b-cab6-4bbf-c632-e9ac61227f73"
      },
      "outputs": [
        {
          "output_type": "stream",
          "name": "stdout",
          "text": [
            "Hello world\n"
          ]
        }
      ],
      "source": [
        "  print (\"Hello world\")\n"
      ]
    },
    {
      "cell_type": "code",
      "source": [
        "#variáveis em Python\n",
        "\n",
        "#Atribui a string \"hello, World\" a variável\n",
        "messege = \"Hello world\"\n",
        "print (messege)"
      ],
      "metadata": {
        "colab": {
          "base_uri": "https://localhost:8080/"
        },
        "id": "6VC7S3_Zoj4z",
        "outputId": "720be1d7-bb0b-471b-91da-34c63954a22c"
      },
      "execution_count": 7,
      "outputs": [
        {
          "output_type": "stream",
          "name": "stdout",
          "text": [
            "Hello world\n"
          ]
        }
      ]
    },
    {
      "cell_type": "code",
      "source": [
        "#Entrada de dados do usuário\n",
        "#Solitar ao usuário que insira seu nome\n",
        "nome = input(\"qual o seu nome?\")\n",
        "print(\"Olá, \"  + nome + \"!\")"
      ],
      "metadata": {
        "colab": {
          "base_uri": "https://localhost:8080/"
        },
        "id": "aTv-Ki6Wt2Lz",
        "outputId": "1f79d1d8-2414-4623-9c0f-7ea9123e132b"
      },
      "execution_count": 8,
      "outputs": [
        {
          "output_type": "stream",
          "name": "stdout",
          "text": [
            "qual o seu nome?Nohara\n",
            "Olá, Nohara!\n"
          ]
        }
      ]
    }
  ]
}