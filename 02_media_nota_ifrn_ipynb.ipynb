{
  "nbformat": 4,
  "nbformat_minor": 0,
  "metadata": {
    "colab": {
      "provenance": [],
      "authorship_tag": "ABX9TyPp1I/x1pUjoRYwl/l51d4r",
      "include_colab_link": true
    },
    "kernelspec": {
      "name": "python3",
      "display_name": "Python 3"
    },
    "language_info": {
      "name": "python"
    }
  },
  "cells": [
    {
      "cell_type": "markdown",
      "metadata": {
        "id": "view-in-github",
        "colab_type": "text"
      },
      "source": [
        "<a href=\"https://colab.research.google.com/github/noharaltc7/noharaltc7/blob/main/02_media_nota_ifrn_ipynb.ipynb\" target=\"_parent\"><img src=\"https://colab.research.google.com/assets/colab-badge.svg\" alt=\"Open In Colab\"/></a>"
      ]
    },
    {
      "cell_type": "code",
      "execution_count": 23,
      "metadata": {
        "colab": {
          "base_uri": "https://localhost:8080/"
        },
        "id": "Dolv7UmixM0O",
        "outputId": "44403a67-1ad1-47b6-f43e-e4c7e9d08545"
      },
      "outputs": [
        {
          "output_type": "stream",
          "name": "stdout",
          "text": [
            "Calculadora de média ponderada do IFRN\n",
            "Digite o número de alunos: 6\n",
            "\n",
            "Aluno 15:\n",
            "Digite a nota 1(com peso 2): 8\n",
            "Digite a nota 2(com peso 3): 2\n",
            "A média ponderada das notas é: 4.40\n",
            "Reprovado\n",
            "\n",
            "Aluno 25:\n",
            "Digite a nota 1(com peso 2): 4\n",
            "Digite a nota 2(com peso 3): 4\n",
            "A média ponderada das notas é: 4.00\n",
            "Prova final\n",
            "\n",
            "Aluno 35:\n",
            "Digite a nota 1(com peso 2): 7\n",
            "Digite a nota 2(com peso 3): 8\n",
            "A média ponderada das notas é: 7.60\n",
            "Aprovado\n",
            "\n",
            "Aluno 45:\n",
            "Digite a nota 1(com peso 2): 9\n",
            "Digite a nota 2(com peso 3): 0\n",
            "A média ponderada das notas é: 3.60\n",
            "Reprovado\n",
            "\n",
            "Aluno 55:\n",
            "Digite a nota 1(com peso 2): 5\n",
            "Digite a nota 2(com peso 3): 7\n",
            "A média ponderada das notas é: 6.20\n",
            "Aprovado\n",
            "\n",
            "Aluno 65:\n",
            "Digite a nota 1(com peso 2): 2\n",
            "Digite a nota 2(com peso 3): 5\n",
            "A média ponderada das notas é: 3.80\n",
            "Reprovado\n"
          ]
        }
      ],
      "source": [
        "print(\"Calculadora de média ponderada do IFRN\")\n",
        "\n",
        "#Perguntando, para quantos alunos, desejo calcular média\n",
        "num_alunos = int(input(\"Digite o número de alunos: \"))\n",
        "\n",
        "for aluno in range(1, num_alunos+1):\n",
        "  #imprima o numero do aluno da vez\n",
        "  print(f\"\\nAluno {aluno}5:\")\n",
        "\n",
        "  #Float, tipagem explícita, para garantir número fracionário\n",
        "  n1 = float( input(\"Digite a nota 1(com peso 2): \") )\n",
        "  n2 = float( input(\"Digite a nota 2(com peso 3): \") )\n",
        "\n",
        "  #calculo de media ponderada\n",
        "  media = (n1 * 2 + n2 * 3) / 5\n",
        "\n",
        "  #impressão da média\n",
        "  print(f\"A média ponderada das notas é: {media:.2f}\")\n",
        "\n",
        "  #apresentar se o aluno foi aprovado ou não\n",
        "  if media >= 6:\n",
        "    print(\"Aprovado\")\n",
        "  else:\n",
        "    if n1 >= 4 and n2 >=4:\n",
        "      print(\"Prova final\")\n",
        "    else:\n",
        "      print(\"Reprovado\")6\n",
        "      8\n",
        "\n",
        "\n",
        "\n",
        ""
      ]
    }
  ]
}