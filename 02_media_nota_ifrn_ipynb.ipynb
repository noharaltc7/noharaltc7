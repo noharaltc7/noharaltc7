{
  "nbformat": 4,
  "nbformat_minor": 0,
  "metadata": {
    "colab": {
      "provenance": [],
      "authorship_tag": "ABX9TyNk188glkiWYGgk8BuYi05A",
      "include_colab_link": true
    },
    "kernelspec": {
      "name": "python3",
      "display_name": "Python 3"
    },
    "language_info": {
      "name": "python"
    }
  },
  "cells": [
    {
      "cell_type": "markdown",
      "metadata": {
        "id": "view-in-github",
        "colab_type": "text"
      },
      "source": [
        "<a href=\"https://colab.research.google.com/github/noharaltc7/noharaltc7/blob/main/02_media_nota_ifrn_ipynb.ipynb\" target=\"_parent\"><img src=\"https://colab.research.google.com/assets/colab-badge.svg\" alt=\"Open In Colab\"/></a>"
      ]
    },
    {
      "cell_type": "code",
      "execution_count": 4,
      "metadata": {
        "colab": {
          "base_uri": "https://localhost:8080/"
        },
        "id": "Dolv7UmixM0O",
        "outputId": "2dd77202-9a3d-4aba-df6c-425258bcea36"
      },
      "outputs": [
        {
          "output_type": "stream",
          "name": "stdout",
          "text": [
            "Calculadora de média ponderada do IFRN\n",
            "Digite a nota 1 (com peso 2):5.6\n",
            "Digite a nota 2(com peso 3)4.8\n",
            "A média ponderada das notas é: 5.12\n",
            "A média ponderada das notas é:  5.119999999999999\n",
            "A media sem formatação\n"
          ]
        }
      ],
      "source": [
        "print (\"Calculadora de média ponderada do IFRN\")\n",
        "#Float, tipagem explícita, para garantir número fracionário\n",
        "n1 = float(input (\"Digite a nota 1 (com peso 2):\" ))\n",
        "n2 = float(input(\"Digite a nota 2(com peso 3)\"))\n",
        "\n",
        "#calculo de media ponderada\n",
        "media = (n1 * 2 + n2 * 3) / 5\n",
        "\n",
        "#impressão da média\n",
        "print (f\"A média ponderada das notas é: {media:.2f}\")\n",
        "\n",
        "#impressão da média sem formatação\n",
        "print(\"A média ponderada das notas é: \" , media)\n",
        "\n",
        "#impressão da media sem formatação\n",
        "print (\"A media sem formatação\")"
      ]
    }
  ]
}