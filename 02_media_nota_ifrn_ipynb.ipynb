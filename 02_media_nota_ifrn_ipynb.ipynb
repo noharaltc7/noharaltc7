{
  "nbformat": 4,
  "nbformat_minor": 0,
  "metadata": {
    "colab": {
      "provenance": [],
      "authorship_tag": "ABX9TyM3QGv8Nj08+T2e8JEv6xn+",
      "include_colab_link": true
    },
    "kernelspec": {
      "name": "python3",
      "display_name": "Python 3"
    },
    "language_info": {
      "name": "python"
    }
  },
  "cells": [
    {
      "cell_type": "markdown",
      "metadata": {
        "id": "view-in-github",
        "colab_type": "text"
      },
      "source": [
        "<a href=\"https://colab.research.google.com/github/noharaltc7/noharaltc7/blob/main/02_media_nota_ifrn_ipynb.ipynb\" target=\"_parent\"><img src=\"https://colab.research.google.com/assets/colab-badge.svg\" alt=\"Open In Colab\"/></a>"
      ]
    },
    {
      "cell_type": "code",
      "execution_count": 8,
      "metadata": {
        "colab": {
          "base_uri": "https://localhost:8080/"
        },
        "id": "Dolv7UmixM0O",
        "outputId": "eeeb3e9c-bb24-4727-c1fc-3863ea739a7e"
      },
      "outputs": [
        {
          "output_type": "stream",
          "name": "stdout",
          "text": [
            "Calculadora de média ponderada do IFRN\n",
            "Digite a nota 1 (com peso 2):5.0\n",
            "Digite a nota 2(com peso 3)6.0\n",
            "A média ponderada das notas é: 5.60\n",
            "A média ponderada das notas é:  5.6\n",
            "A media sem formatação\n",
            "Reprovado\n"
          ]
        }
      ],
      "source": [
        "print (\"Calculadora de média ponderada do IFRN\")\n",
        "#Float, tipagem explícita, para garantir número fracionário\n",
        "n1 = float(input (\"Digite a nota 1 (com peso 2):\" ))\n",
        "n2 = float(input(\"Digite a nota 2(com peso 3)\"))\n",
        "\n",
        "#calculo de media ponderada\n",
        "media = (n1 * 2 + n2 * 3) / 5\n",
        "\n",
        "#impressão da média\n",
        "print (f\"A média ponderada das notas é: {media:.2f}\")\n",
        "\n",
        "#impressão da média sem formatação\n",
        "print(\"A média ponderada das notas é: \" , media)\n",
        "\n",
        "#impressão da media sem formatação\n",
        "print (\"A media sem formatação\")\n",
        "\n",
        "#apresentar se o aluno foi aprovado ou não\n",
        "if media  >= 6:\n",
        "  print(\"Aprovado\")\n",
        "else:\n",
        "    print(\"Reprovado\")"
      ]
    }
  ]
}