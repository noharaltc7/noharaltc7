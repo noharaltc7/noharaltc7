{
  "nbformat": 4,
  "nbformat_minor": 0,
  "metadata": {
    "colab": {
      "provenance": [],
      "authorship_tag": "ABX9TyOt2IKR5q/Colg2DTiCNPWr",
      "include_colab_link": true
    },
    "kernelspec": {
      "name": "python3",
      "display_name": "Python 3"
    },
    "language_info": {
      "name": "python"
    }
  },
  "cells": [
    {
      "cell_type": "markdown",
      "metadata": {
        "id": "view-in-github",
        "colab_type": "text"
      },
      "source": [
        "<a href=\"https://colab.research.google.com/github/noharaltc7/noharaltc7/blob/main/07_repeti%C3%A7%C3%A3o_com_for.ipynb\" target=\"_parent\"><img src=\"https://colab.research.google.com/assets/colab-badge.svg\" alt=\"Open In Colab\"/></a>"
      ]
    },
    {
      "cell_type": "code",
      "execution_count": 3,
      "metadata": {
        "colab": {
          "base_uri": "https://localhost:8080/"
        },
        "id": "_vsWkQzIgVQH",
        "outputId": "5d0e5c6a-fed9-4761-acdd-c27172cbe1ae"
      },
      "outputs": [
        {
          "output_type": "stream",
          "name": "stdout",
          "text": [
            "1:spam\n",
            "2:eggs\n",
            "3:bacon\n"
          ]
        }
      ],
      "source": [
        "contador = 0\n",
        "for x in ['spam', 'eggs', 'bacon']:\n",
        "  contador += 1\n",
        "  print(f\"{contador}:{x}\")\n"
      ]
    },
    {
      "cell_type": "code",
      "source": [
        "contador = 0\n",
        "for x in ['spam', 'eggs', 'bacon']:\n",
        "   print(f\"{contador}:{x}\")\n",
        "   contador += 1"
      ],
      "metadata": {
        "colab": {
          "base_uri": "https://localhost:8080/"
        },
        "id": "abWOth_qjIBU",
        "outputId": "403afd18-cbda-473d-8fe6-6ca2aff0a3da"
      },
      "execution_count": 4,
      "outputs": [
        {
          "output_type": "stream",
          "name": "stdout",
          "text": [
            "0:spam\n",
            "1:eggs\n",
            "2:bacon\n"
          ]
        }
      ]
    },
    {
      "cell_type": "code",
      "source": [
        "T = [(1,2), (3,4), (5,6)]\n",
        "for (a,b) in T:\n",
        "  print(a,\"e\",b)"
      ],
      "metadata": {
        "colab": {
          "base_uri": "https://localhost:8080/"
        },
        "id": "YbHcYtzHj5HK",
        "outputId": "2c5af9f4-718b-4e12-8a1d-6e089c7ce102"
      },
      "execution_count": 5,
      "outputs": [
        {
          "output_type": "stream",
          "name": "stdout",
          "text": [
            "1 e 2\n",
            "3 e 4\n",
            "5 e 6\n"
          ]
        }
      ]
    },
    {
      "cell_type": "code",
      "source": [
        "#Dicionário em python\n",
        "D = {'a': 1, 'b': 2, 'c': 3}\n",
        "for chave in D:\n",
        "  print(chave,\"=>\",D[chave])"
      ],
      "metadata": {
        "colab": {
          "base_uri": "https://localhost:8080/"
        },
        "id": "7t28K4tLkhr6",
        "outputId": "a05f0419-bb9d-43d0-b0ca-0cbf1816bb9c"
      },
      "execution_count": 12,
      "outputs": [
        {
          "output_type": "stream",
          "name": "stdout",
          "text": [
            "a => 1\n",
            "b => 2\n",
            "c => 3\n"
          ]
        }
      ]
    },
    {
      "cell_type": "code",
      "source": [
        "list(range(7))"
      ],
      "metadata": {
        "colab": {
          "base_uri": "https://localhost:8080/"
        },
        "id": "Tr5jECrZmXjo",
        "outputId": "1f00d983-4a95-4443-ede0-2e436e24c2ee"
      },
      "execution_count": 14,
      "outputs": [
        {
          "output_type": "execute_result",
          "data": {
            "text/plain": [
              "[0, 1, 2, 3, 4, 5, 6]"
            ]
          },
          "metadata": {},
          "execution_count": 14
        }
      ]
    },
    {
      "cell_type": "code",
      "source": [
        "for i in range(5):\n",
        "  print(i,\"pythons\")"
      ],
      "metadata": {
        "colab": {
          "base_uri": "https://localhost:8080/"
        },
        "id": "OJU_iA4MnHBP",
        "outputId": "86bcdd05-1902-4c40-f646-904354dd77b4"
      },
      "execution_count": 18,
      "outputs": [
        {
          "output_type": "stream",
          "name": "stdout",
          "text": [
            "0 pythons\n",
            "1 pythons\n",
            "2 pythons\n",
            "3 pythons\n",
            "4 pythons\n"
          ]
        }
      ]
    },
    {
      "cell_type": "code",
      "source": [
        "s = 'Nohara'\n",
        "print(\"Tamanho da palavra:\", len(s))\n",
        "for i in range(len(s)):\n",
        "  print(i,s[i],sep='-',end=' ')"
      ],
      "metadata": {
        "colab": {
          "base_uri": "https://localhost:8080/"
        },
        "id": "L53IKeminlyf",
        "outputId": "4bd98dd1-8592-4ac3-99e3-dc4b37641223"
      },
      "execution_count": 25,
      "outputs": [
        {
          "output_type": "stream",
          "name": "stdout",
          "text": [
            "Tamanho da palavra: 6\n",
            "0-N 1-o 2-h 3-a 4-r 5-a "
          ]
        }
      ]
    },
    {
      "cell_type": "code",
      "source": [
        "L1 = ['a','b','c','d']\n",
        "L2 = [1,2,3,4]\n",
        "print(list(L1))\n",
        "print(list(L2))\n",
        "compactado = zip(L1,L2)\n",
        "print(list(compactado))\n",
        "print(type(compactado)) #qual o tipo de classe ?\n",
        "print(type(list(zip(L1,L2))))\n",
        "for (x,y) in list(zip(L1,L2)):\n",
        "  print(x,\"-\",y)"
      ],
      "metadata": {
        "colab": {
          "base_uri": "https://localhost:8080/"
        },
        "id": "uIRpyj6mq8IR",
        "outputId": "ead1d79f-6b6f-446d-9df5-3c6e9f21d2a7"
      },
      "execution_count": 29,
      "outputs": [
        {
          "output_type": "stream",
          "name": "stdout",
          "text": [
            "['a', 'b', 'c', 'd']\n",
            "[1, 2, 3, 4]\n",
            "[('a', 1), ('b', 2), ('c', 3), ('d', 4)]\n",
            "<class 'zip'>\n",
            "<class 'list'>\n",
            "a - 1\n",
            "b - 2\n",
            "c - 3\n",
            "d - 4\n"
          ]
        }
      ]
    },
    {
      "cell_type": "code",
      "source": [
        "#zip crie um dicionário a partir de listas\n",
        "chaves = ['a','b','c','d']\n",
        "valores = [1,2,3,4]\n",
        "D1 = dict(zip(chaves,valores))\n",
        "print(D1)"
      ],
      "metadata": {
        "colab": {
          "base_uri": "https://localhost:8080/"
        },
        "id": "6T8fs3Axt2ey",
        "outputId": "6ac7dae4-9299-4215-a692-9494cd7801e7"
      },
      "execution_count": 30,
      "outputs": [
        {
          "output_type": "stream",
          "name": "stdout",
          "text": [
            "{'a': 1, 'b': 2, 'c': 3, 'd': 4}\n"
          ]
        }
      ]
    },
    {
      "cell_type": "markdown",
      "source": [
        "Enumerate"
      ],
      "metadata": {
        "id": "MLiOgOjGuiCC"
      }
    },
    {
      "cell_type": "code",
      "source": [
        "s ='nohara'\n",
        "print(enumerate(s))\n",
        "print(list(enumerate(s)))\n",
        "for (offset,valor) in enumerate(s):\n",
        "  print(offset,valor)"
      ],
      "metadata": {
        "colab": {
          "base_uri": "https://localhost:8080/"
        },
        "id": "sQ4Ywas9ukPq",
        "outputId": "342394ca-0771-4af6-cdea-3161d51ef4f8"
      },
      "execution_count": 32,
      "outputs": [
        {
          "output_type": "stream",
          "name": "stdout",
          "text": [
            "<enumerate object at 0x7e55335a19c0>\n",
            "[(0, 'n'), (1, 'o'), (2, 'h'), (3, 'a'), (4, 'r'), (5, 'a')]\n",
            "0 n\n",
            "1 o\n",
            "2 h\n",
            "3 a\n",
            "4 r\n",
            "5 a\n"
          ]
        }
      ]
    }
  ]
}